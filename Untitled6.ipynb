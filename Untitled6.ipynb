{
 "cells": [
  {
   "cell_type": "code",
   "execution_count": 1,
   "id": "ee95eb36",
   "metadata": {},
   "outputs": [
    {
     "name": "stdout",
     "output_type": "stream",
     "text": [
      "I am from Maroc\n",
      "I am from Algeria\n",
      "I am from Tunisia\n"
     ]
    }
   ],
   "source": [
    "def my_function(country=\"Tunisia\"):\n",
    "    print(\"I am from \"+country)\n",
    "my_function(\"Maroc\")\n",
    "my_function(\"Algeria\")\n",
    "my_function()\n"
   ]
  },
  {
   "cell_type": "code",
   "execution_count": 10,
   "id": "42af1fd0",
   "metadata": {},
   "outputs": [
    {
     "name": "stdout",
     "output_type": "stream",
     "text": [
      "12409.650000000001\n"
     ]
    }
   ],
   "source": [
    "# sum = lambda a,b,c : a+b+c\n",
    "# print(sum(2,6,3))\n",
    "F = lambda m1, m2, d: m1*m2*9.81/(d**2)\n",
    "print(F(23,55,1))"
   ]
  },
  {
   "cell_type": "code",
   "execution_count": 11,
   "id": "82035a67",
   "metadata": {},
   "outputs": [
    {
     "name": "stdout",
     "output_type": "stream",
     "text": [
      "03\n"
     ]
    }
   ],
   "source": [
    "test = lambda date : date.split('/')[1]\n",
    "date = '2020/03/10'\n",
    "print(test(date))"
   ]
  },
  {
   "cell_type": "code",
   "execution_count": 12,
   "id": "bdc43bb8",
   "metadata": {},
   "outputs": [
    {
     "data": {
      "text/plain": [
       "'Hani'"
      ]
     },
     "execution_count": 12,
     "metadata": {},
     "output_type": "execute_result"
    }
   ],
   "source": [
    "nom = lambda x:x.title()\n",
    "nom('hani')\n"
   ]
  },
  {
   "cell_type": "code",
   "execution_count": 16,
   "id": "501b73a2",
   "metadata": {},
   "outputs": [
    {
     "data": {
      "text/plain": [
       "['Zouheir', 'Hani']"
      ]
     },
     "execution_count": 16,
     "metadata": {},
     "output_type": "execute_result"
    }
   ],
   "source": [
    "L=['zouheir','haNi']\n",
    "\n",
    "list(map (nom,L))"
   ]
  },
  {
   "cell_type": "code",
   "execution_count": 1,
   "id": "cbae84af",
   "metadata": {},
   "outputs": [
    {
     "name": "stdout",
     "output_type": "stream",
     "text": [
      "100,150,200\n",
      "[18, 22, 26]\n"
     ]
    }
   ],
   "source": [
    "import math\n",
    "q=lambda c,d,h : math . sqrt((2*c*d)/h)\n",
    " \n",
    "c=50\n",
    "h=30\n",
    "value = []\n",
    "D=items=[int (x) for x in input().split(',')]\n",
    "results= list(map(round,[q(c,d,h)for d in  D]))\n",
    "print(results)"
   ]
  }
 ],
 "metadata": {
  "kernelspec": {
   "display_name": "Python 3 (ipykernel)",
   "language": "python",
   "name": "python3"
  },
  "language_info": {
   "codemirror_mode": {
    "name": "ipython",
    "version": 3
   },
   "file_extension": ".py",
   "mimetype": "text/x-python",
   "name": "python",
   "nbconvert_exporter": "python",
   "pygments_lexer": "ipython3",
   "version": "3.9.12"
  }
 },
 "nbformat": 4,
 "nbformat_minor": 5
}
